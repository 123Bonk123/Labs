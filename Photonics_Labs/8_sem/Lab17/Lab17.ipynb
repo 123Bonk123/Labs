{
 "nbformat": 4,
 "nbformat_minor": 2,
 "metadata": {
  "language_info": {
   "name": "python",
   "codemirror_mode": {
    "name": "ipython",
    "version": 3
   }
  },
  "orig_nbformat": 2,
  "file_extension": ".py",
  "mimetype": "text/x-python",
  "name": "python",
  "npconvert_exporter": "python",
  "pygments_lexer": "ipython3",
  "version": 3
 },
 "cells": [
  {
   "cell_type": "markdown",
   "metadata": {},
   "source": [
    "# Attempt 1"
   ]
  },
  {
   "cell_type": "code",
   "execution_count": 1,
   "metadata": {},
   "outputs": [],
   "source": [
    "import numpy as np\n",
    "import sympy as sym\n",
    "from sympy import init_session\n",
    "\n",
    "_lambda = 650 * 10E-9\n",
    "omegaB = np.array([5078.125, 18554.688, 17187.5])\n",
    "c = 3*10E9"
   ]
  },
  {
   "cell_type": "code",
   "execution_count": 2,
   "metadata": {},
   "outputs": [],
   "source": [
    "omega0, v, omega, omegab = sym.symbols('omega0 v omega omegab')\n",
    "solution = sym.solve(())\n",
    "eq1 = sym.Eq(omega - omega0 * sym.sqrt((1 - v/c)/(1 + v/c)), 0)\n",
    "eq2 = sym.Eq(omega0 - c/_lambda, 0)\n",
    "eq3 = sym.Eq(omegab - omega0 + omega, 0)"
   ]
  },
  {
   "cell_type": "code",
   "execution_count": 3,
   "metadata": {},
   "outputs": [],
   "source": [
    "solution = sym.solve([eq1,eq2,eq3])"
   ]
  },
  {
   "cell_type": "code",
   "execution_count": 11,
   "metadata": {},
   "outputs": [
    {
     "data": {
      "text/plain": "{omega: 4.61538461538461e+15*sqrt((1.0e+25 - 333333333333333.0*v)/(333333333333333.0*v + 1.0e+25)),\n omega0: 4.61538461538461e+15,\n omegab: 4.61538461538461e+15 - 4.61538461538461e+15*sqrt(-(333333333333333.0*v - 1.0e+25)/(333333333333333.0*v + 1.0e+25))}"
     },
     "execution_count": 11,
     "metadata": {},
     "output_type": "execute_result"
    }
   ],
   "source": [
    "solution[0]"
   ]
  },
  {
   "cell_type": "code",
   "execution_count": null,
   "metadata": {},
   "outputs": [],
   "source": []
  }
 ]
}